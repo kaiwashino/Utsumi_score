{
 "cells": [
  {
   "cell_type": "code",
   "execution_count": 7,
   "metadata": {},
   "outputs": [
    {
     "name": "stdout",
     "output_type": "stream",
     "text": [
      "130\n",
      "[['a', 'nbo', 0, '2'], ['a', 'nbo', 1, '18'], ['a', 'nbo', 2, '7'], ['a', 'nbo', 3, '17'], ['a', 'nbo', 4, '3'], ['a', 'nbo', 5, '7'], ['a', 'nbo', 6, '6'], ['a', 'nbo', 7, '20'], ['a', 'nbo', 8, '9'], ['a', 'nbo', 9, '14'], ['a', 'nbo', 10, '3'], ['a', 'nbo', 11, '5'], ['a', 'nbo', 12, '9'], ['a', 'nbo', 13, '1'], ['a', 'rbo', 0, '1'], ['a', 'rbo', 1, '10'], ['a', 'rbo', 2, '19'], ['a', 'rbo', 3, '4'], ['a', 'rbo', 4, '14'], ['a', 'rbo', 5, '16'], ['a', 'rbo', 6, '6'], ['a', 'rbo', 7, '27'], ['a', 'rbo', 8, '3'], ['a', 'rbo', 9, '6'], ['a', 'rbo', 10, '2'], ['a', 'rbo', 11, '5'], ['a', 'rbo', 12, '12'], ['a', 'rbo', 13, '25'], ['a', 'rbo', 14, '1'], ['a', 'sbo', 0, '1'], ['a', 'sbo', 1, '10'], ['a', 'sbo', 2, '13'], ['a', 'sbo', 3, '17'], ['a', 'sbo', 4, '5'], ['a', 'sbo', 5, '1'], ['a', 'sbo', 6, '10'], ['a', 'sbo', 7, '10'], ['a', 'sbo', 8, '14'], ['a', 'sbo', 9, '9'], ['a', 'sbo', 10, '4'], ['a', 'sbo', 11, '8'], ['a', 'sbo', 12, '10'], ['a', 'sbo', 13, '4'], ['a', 'sbo', 14, '5'], ['a', 'sbo', 15, '1'], ['a', 'sbo', 16, '23'], ['a', 'sbo', 17, '1'], ['a', 'sbo', 18, '4'], ['a', 'sbo', 19, '16'], ['a', 'sbo', 20, '1'], ['a', 'usbo', 0, '1'], ['a', 'usbo', 1, '11'], ['a', 'usbo', 2, '16'], ['a', 'usbo', 3, '7'], ['a', 'usbo', 4, '15'], ['a', 'usbo', 5, '10'], ['a', 'usbo', 6, '5'], ['a', 'usbo', 7, '11'], ['a', 'usbo', 8, '18'], ['a', 'usbo', 9, '11'], ['a', 'usbo', 10, '12'], ['a', 'usbo', 11, '9'], ['a', 'usbo', 12, '10'], ['a', 'usbo', 13, '12'], ['a', 'usbo', 14, '1'], ['b', 'nbo', 0, '2'], ['b', 'nbo', 1, '18'], ['b', 'nbo', 2, '7'], ['b', 'nbo', 3, '17'], ['b', 'nbo', 4, '3'], ['b', 'nbo', 5, '7'], ['b', 'nbo', 6, '6'], ['b', 'nbo', 7, '20'], ['b', 'nbo', 8, '9'], ['b', 'nbo', 9, '14'], ['b', 'nbo', 10, '3'], ['b', 'nbo', 11, '5'], ['b', 'nbo', 12, '9'], ['b', 'nbo', 13, '1'], ['b', 'rbo', 0, '1'], ['b', 'rbo', 1, '10'], ['b', 'rbo', 2, '19'], ['b', 'rbo', 3, '4'], ['b', 'rbo', 4, '14'], ['b', 'rbo', 5, '16'], ['b', 'rbo', 6, '6'], ['b', 'rbo', 7, '27'], ['b', 'rbo', 8, '3'], ['b', 'rbo', 9, '6'], ['b', 'rbo', 10, '2'], ['b', 'rbo', 11, '5'], ['b', 'rbo', 12, '12'], ['b', 'rbo', 13, '25'], ['b', 'rbo', 14, '1'], ['b', 'sbo', 0, '1'], ['b', 'sbo', 1, '10'], ['b', 'sbo', 2, '13'], ['b', 'sbo', 3, '17'], ['b', 'sbo', 4, '5'], ['b', 'sbo', 5, '1'], ['b', 'sbo', 6, '10'], ['b', 'sbo', 7, '10'], ['b', 'sbo', 8, '14'], ['b', 'sbo', 9, '9'], ['b', 'sbo', 10, '4'], ['b', 'sbo', 11, '8'], ['b', 'sbo', 12, '10'], ['b', 'sbo', 13, '4'], ['b', 'sbo', 14, '5'], ['b', 'sbo', 15, '1'], ['b', 'sbo', 16, '23'], ['b', 'sbo', 17, '1'], ['b', 'sbo', 18, '4'], ['b', 'sbo', 19, '16'], ['b', 'sbo', 20, '1'], ['b', 'usbo', 0, '1'], ['b', 'usbo', 1, '11'], ['b', 'usbo', 2, '16'], ['b', 'usbo', 3, '7'], ['b', 'usbo', 4, '15'], ['b', 'usbo', 5, '10'], ['b', 'usbo', 6, '5'], ['b', 'usbo', 7, '11'], ['b', 'usbo', 8, '18'], ['b', 'usbo', 9, '11'], ['b', 'usbo', 10, '12'], ['b', 'usbo', 11, '9'], ['b', 'usbo', 12, '10'], ['b', 'usbo', 13, '12'], ['b', 'usbo', 14, '1']]\n"
     ]
    }
   ],
   "source": [
    "import os\n",
    "import csv\n",
    "import pandas as pd\n",
    "\n",
    "path = 'C:/Users/S2/Documents/チェック/ペリー/Python_code/date'\n",
    "\n",
    "sub_file=os.listdir(path)\n",
    "cnt=0\n",
    "#全csvファイル数を調べる\n",
    "for i in range(len(sub_file)):\n",
    "    bo_file=os.listdir(path+'/'+sub_file[i]) \n",
    "    for j in range(len(bo_file)):\n",
    "        csv_file=os.listdir(path+'/'+sub_file[i]+'/'+bo_file[j])\n",
    "        for k in range(len(csv_file)):\n",
    "            cnt+=1\n",
    "print(cnt)#aは全csvファイル数\n",
    "\n",
    "score = [[0] * 4 for i in range(cnt)]#全csvファイル数分の4要素配列を作成\n",
    "cnt=0\n",
    "for i in range(len(sub_file)):\n",
    "    bo_file=os.listdir(path+'/'+sub_file[i]) \n",
    "    for j in range(len(bo_file)):\n",
    "        csv_file=os.listdir(path+'/'+sub_file[i]+'/'+bo_file[j])\n",
    "        for k in range(len(csv_file)):\n",
    "            df = pd.read_csv(path+'/'+sub_file[i]+'/'+bo_file[j]+'/'+csv_file[k])\n",
    "            length = len(df.index)#csvファイルの列の長さを調べる\n",
    "#4要素に入れていく[被験者][ブラックアウト][実験番号][スコア]\n",
    "            score[cnt][0]=sub_file[i]\n",
    "            score[cnt][1]=bo_file[j]\n",
    "            score[cnt][2]=k\n",
    "            score[cnt][3]=df.iloc[length-1,0]\n",
    "            cnt+=1 \n",
    "print(score)\n",
    "\n",
    "with open('score.csv', 'w') as file:\n",
    "    writer = csv.writer(file, lineterminator ='\\n')\n",
    "    writer.writerows(score)"
   ]
  },
  {
   "cell_type": "code",
   "execution_count": null,
   "metadata": {},
   "outputs": [],
   "source": []
  }
 ],
 "metadata": {
  "kernelspec": {
   "display_name": "Python 3",
   "language": "python",
   "name": "python3"
  },
  "language_info": {
   "codemirror_mode": {
    "name": "ipython",
    "version": 3
   },
   "file_extension": ".py",
   "mimetype": "text/x-python",
   "name": "python",
   "nbconvert_exporter": "python",
   "pygments_lexer": "ipython3",
   "version": "3.7.6"
  }
 },
 "nbformat": 4,
 "nbformat_minor": 4
}
